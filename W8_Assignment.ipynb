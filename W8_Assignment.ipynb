{
 "cells": [
  {
   "cell_type": "code",
   "execution_count": 27,
   "id": "094353f8",
   "metadata": {},
   "outputs": [],
   "source": [
    "import pandas as pd\n",
    "import numpy as np"
   ]
  },
  {
   "cell_type": "code",
   "execution_count": 28,
   "id": "16936d84",
   "metadata": {},
   "outputs": [],
   "source": [
    "class Game:\n",
    "    def make_empty_board(self):\n",
    "        return [\n",
    "            [None, None, None],\n",
    "            [None, None, None],\n",
    "            [None, None, None],\n",
    "        ]\n",
    "\n",
    "    def get_winner(self, board):\n",
    "        \"\"\"Determines the winner of the given board.\n",
    "        Returns 'X', 'O', or None.\n",
    "    \n",
    "        a = board[0][0]\n",
    "        b = board[0][1]\n",
    "        c = board[0][2]\n",
    "        if a == b and b == c and c == 'O':\n",
    "            return 'O'\n",
    "        elif a == b and b == c and c == 'X':\n",
    "            return 'X'\n",
    "\n",
    "        d = board[1][0]\n",
    "        e = board[1][1]\n",
    "        f = board[1][2]\n",
    "        if d == e and e == f and f =='O':\n",
    "            return 'O'\n",
    "        elif d == e and e == f and f == 'X':\n",
    "            return 'X'\n",
    "        \n",
    "        g = board[2][0]\n",
    "        h = board[2][1]\n",
    "        i = board[2][2]\n",
    "        if g == h and h == i and i =='O':\n",
    "            return 'O'\n",
    "        elif g == h and h == i and i == 'X':\n",
    "            return 'X'    \"\"\"\n",
    "        \n",
    "        for x in range(3):\n",
    "            container = \"\"\n",
    "\n",
    "            for y in range (3):\n",
    "                container = container +str(board[x][y])\n",
    "\n",
    "            if container == \"OOO\":\n",
    "                return \"O\"\n",
    "\n",
    "            elif container == \"XXX\":\n",
    "                return \"X\"\n",
    "\n",
    "        for x in range(3):\n",
    "            container = \"\"\n",
    "            for y in range (3):\n",
    "                container = container +str(board[y][x])\n",
    "            if container == \"OOO\":\n",
    "                return \"O\"\n",
    "            elif container == \"XXX\":\n",
    "                return \"X\"\n",
    "\n",
    "        container = \"\"\n",
    "        for x in range(3):     \n",
    "            container = container + str(board[x][x])\n",
    "            if container == \"OOO\":\n",
    "                return \"O\"\n",
    "            elif container == \"XXX\":\n",
    "                return \"X\"\n",
    "                \n",
    "        container = \"\"\n",
    "        for x in range(3):\n",
    "            container = container + str(board[2-x][x])\n",
    "            if container == \"OOO\":\n",
    "                return \"O\"\n",
    "            elif container == \"XXX\":\n",
    "                return \"X\"\n",
    "        return None\n",
    "\n",
    "\n",
    "\n",
    "    def other_player(self, player):\n",
    "        \"\"\"Given the character for a player, returns the other player.\"\"\"\n",
    "        if player == 'O':\n",
    "            return 'X'\n",
    "        if player == 'X':\n",
    "            return 'O'\n"
   ]
  },
  {
   "cell_type": "code",
   "execution_count": 33,
   "id": "9470df20",
   "metadata": {},
   "outputs": [
    {
     "name": "stdout",
     "output_type": "stream",
     "text": [
      "TODO: take a turn!\n",
      "None None None \n",
      "\n",
      "None None None \n",
      "\n",
      "None None None \n",
      "\n",
      "[x]1\n",
      "[y]1\n",
      "None None None \n",
      "\n",
      "None O None \n",
      "\n",
      "None None None \n",
      "\n",
      "TODO: take a turn!\n",
      "None None None \n",
      "\n",
      "None O None \n",
      "\n",
      "None None None \n",
      "\n",
      "[x]0\n",
      "[y]1\n",
      "None X None \n",
      "\n",
      "None O None \n",
      "\n",
      "None None None \n",
      "\n",
      "TODO: take a turn!\n",
      "None X None \n",
      "\n",
      "None O None \n",
      "\n",
      "None None None \n",
      "\n",
      "[x]0\n",
      "[y]0\n",
      "O X None \n",
      "\n",
      "None O None \n",
      "\n",
      "None None None \n",
      "\n",
      "TODO: take a turn!\n",
      "O X None \n",
      "\n",
      "None O None \n",
      "\n",
      "None None None \n",
      "\n",
      "[x]2\n",
      "[y]2\n",
      "O X None \n",
      "\n",
      "None O None \n",
      "\n",
      "None None X \n",
      "\n",
      "TODO: take a turn!\n",
      "O X None \n",
      "\n",
      "None O None \n",
      "\n",
      "None None X \n",
      "\n",
      "[x]0\n",
      "[y]1\n",
      "O O None \n",
      "\n",
      "None O None \n",
      "\n",
      "None None X \n",
      "\n",
      "TODO: take a turn!\n",
      "O O None \n",
      "\n",
      "None O None \n",
      "\n",
      "None None X \n",
      "\n",
      "[x]1\n",
      "[y]2\n",
      "O O None \n",
      "\n",
      "None O X \n",
      "\n",
      "None None X \n",
      "\n",
      "TODO: take a turn!\n",
      "O O None \n",
      "\n",
      "None O X \n",
      "\n",
      "None None X \n",
      "\n",
      "[x]0\n",
      "[y]2\n",
      "O O O \n",
      "\n",
      "None O X \n",
      "\n",
      "None None X \n",
      "\n",
      "O\n"
     ]
    }
   ],
   "source": [
    "def show_board(board):\n",
    "    for x in range(3):\n",
    "        for y in range(3):\n",
    "            print(board[x][y],end=\" \")\n",
    "        print('\\n')\n",
    "\n",
    "if __name__ == '__main__':\n",
    "    game=Game()\n",
    "    board = game.make_empty_board()\n",
    "    winner = None\n",
    "    player = \"O\"\n",
    "    while winner == None:\n",
    "        print(\"TODO: take a turn!\")\n",
    "        # TODO: Show the board to the user.\n",
    "        show_board(board)\n",
    "        # TODO: Input a move from the player.\n",
    "        x = input(\"[x]\")\n",
    "        y = input(\"[y]\")\n",
    "        # TODO: Update the board.\n",
    "        board[int(x)][int(y)]= player\n",
    "        show_board(board)\n",
    "        player = game.other_player(player)\n",
    "        # TODO: Update who's turn it is.\n",
    "        winner = game.get_winner(board)\n",
    "    print(winner)"
   ]
  },
  {
   "cell_type": "code",
   "execution_count": 34,
   "id": "399fb3cd",
   "metadata": {},
   "outputs": [
    {
     "data": {
      "text/html": [
       "<div>\n",
       "<style scoped>\n",
       "    .dataframe tbody tr th:only-of-type {\n",
       "        vertical-align: middle;\n",
       "    }\n",
       "\n",
       "    .dataframe tbody tr th {\n",
       "        vertical-align: top;\n",
       "    }\n",
       "\n",
       "    .dataframe thead th {\n",
       "        text-align: right;\n",
       "    }\n",
       "</style>\n",
       "<table border=\"1\" class=\"dataframe\">\n",
       "  <thead>\n",
       "    <tr style=\"text-align: right;\">\n",
       "      <th></th>\n",
       "      <th>Game ID</th>\n",
       "      <th>Player 1</th>\n",
       "      <th>Player 2</th>\n",
       "      <th>Winner</th>\n",
       "    </tr>\n",
       "  </thead>\n",
       "  <tbody>\n",
       "  </tbody>\n",
       "</table>\n",
       "</div>"
      ],
      "text/plain": [
       "Empty DataFrame\n",
       "Columns: [Game ID, Player 1, Player 2, Winner]\n",
       "Index: []"
      ]
     },
     "execution_count": 34,
     "metadata": {},
     "output_type": "execute_result"
    }
   ],
   "source": [
    "games = pd.DataFrame(columns=[\n",
    "    'Game ID',\n",
    "    'Player 1',\n",
    "    'Player 2',\n",
    "    'Winner'\n",
    "])\n",
    "games"
   ]
  },
  {
   "cell_type": "code",
   "execution_count": 35,
   "id": "bb1e096c",
   "metadata": {},
   "outputs": [],
   "source": [
    "def add_game(player1, player2, winner):\n",
    "    games.loc[len(games)]={\n",
    "        \"Game ID\": len(games)+1,\n",
    "        \"Player 1\": player1,\n",
    "        \"Player 2\": player2,\n",
    "        \"Winner\": winner\n",
    "    }"
   ]
  },
  {
   "cell_type": "code",
   "execution_count": 36,
   "id": "149982d4",
   "metadata": {},
   "outputs": [],
   "source": [
    "player1 ='X'\n",
    "player2 ='O'"
   ]
  },
  {
   "cell_type": "code",
   "execution_count": 38,
   "id": "d91a7394",
   "metadata": {},
   "outputs": [
    {
     "data": {
      "text/html": [
       "<div>\n",
       "<style scoped>\n",
       "    .dataframe tbody tr th:only-of-type {\n",
       "        vertical-align: middle;\n",
       "    }\n",
       "\n",
       "    .dataframe tbody tr th {\n",
       "        vertical-align: top;\n",
       "    }\n",
       "\n",
       "    .dataframe thead th {\n",
       "        text-align: right;\n",
       "    }\n",
       "</style>\n",
       "<table border=\"1\" class=\"dataframe\">\n",
       "  <thead>\n",
       "    <tr style=\"text-align: right;\">\n",
       "      <th></th>\n",
       "      <th>Game ID</th>\n",
       "      <th>Player 1</th>\n",
       "      <th>Player 2</th>\n",
       "      <th>Winner</th>\n",
       "    </tr>\n",
       "  </thead>\n",
       "  <tbody>\n",
       "    <tr>\n",
       "      <th>0</th>\n",
       "      <td>1</td>\n",
       "      <td>X</td>\n",
       "      <td>O</td>\n",
       "      <td>O</td>\n",
       "    </tr>\n",
       "    <tr>\n",
       "      <th>1</th>\n",
       "      <td>2</td>\n",
       "      <td>X</td>\n",
       "      <td>O</td>\n",
       "      <td>O</td>\n",
       "    </tr>\n",
       "  </tbody>\n",
       "</table>\n",
       "</div>"
      ],
      "text/plain": [
       "   Game ID Player 1 Player 2 Winner\n",
       "0        1        X        O      O\n",
       "1        2        X        O      O"
      ]
     },
     "execution_count": 38,
     "metadata": {},
     "output_type": "execute_result"
    }
   ],
   "source": [
    "add_game(player1,player2,winner)\n",
    "games"
   ]
  },
  {
   "cell_type": "code",
   "execution_count": 42,
   "id": "d0f751df",
   "metadata": {},
   "outputs": [],
   "source": [
    "games.to_csv('./data.csv')"
   ]
  },
  {
   "cell_type": "code",
   "execution_count": 52,
   "id": "4a2c667d",
   "metadata": {},
   "outputs": [
    {
     "data": {
      "text/html": [
       "<div>\n",
       "<style scoped>\n",
       "    .dataframe tbody tr th:only-of-type {\n",
       "        vertical-align: middle;\n",
       "    }\n",
       "\n",
       "    .dataframe tbody tr th {\n",
       "        vertical-align: top;\n",
       "    }\n",
       "\n",
       "    .dataframe thead th {\n",
       "        text-align: right;\n",
       "    }\n",
       "</style>\n",
       "<table border=\"1\" class=\"dataframe\">\n",
       "  <thead>\n",
       "    <tr style=\"text-align: right;\">\n",
       "      <th></th>\n",
       "      <th>Game ID</th>\n",
       "      <th>Player 1</th>\n",
       "      <th>Player 2</th>\n",
       "      <th>Winner</th>\n",
       "    </tr>\n",
       "  </thead>\n",
       "  <tbody>\n",
       "    <tr>\n",
       "      <th>0</th>\n",
       "      <td>1</td>\n",
       "      <td>X</td>\n",
       "      <td>O</td>\n",
       "      <td>O</td>\n",
       "    </tr>\n",
       "    <tr>\n",
       "      <th>1</th>\n",
       "      <td>2</td>\n",
       "      <td>X</td>\n",
       "      <td>O</td>\n",
       "      <td>O</td>\n",
       "    </tr>\n",
       "    <tr>\n",
       "      <th>2</th>\n",
       "      <td>3</td>\n",
       "      <td>X</td>\n",
       "      <td>O</td>\n",
       "      <td>X</td>\n",
       "    </tr>\n",
       "    <tr>\n",
       "      <th>3</th>\n",
       "      <td>4</td>\n",
       "      <td>X</td>\n",
       "      <td>O</td>\n",
       "      <td>X</td>\n",
       "    </tr>\n",
       "    <tr>\n",
       "      <th>4</th>\n",
       "      <td>5</td>\n",
       "      <td>X</td>\n",
       "      <td>O</td>\n",
       "      <td>O</td>\n",
       "    </tr>\n",
       "    <tr>\n",
       "      <th>5</th>\n",
       "      <td>6</td>\n",
       "      <td>X</td>\n",
       "      <td>O</td>\n",
       "      <td>X</td>\n",
       "    </tr>\n",
       "    <tr>\n",
       "      <th>6</th>\n",
       "      <td>7</td>\n",
       "      <td>X</td>\n",
       "      <td>O</td>\n",
       "      <td>O</td>\n",
       "    </tr>\n",
       "    <tr>\n",
       "      <th>7</th>\n",
       "      <td>8</td>\n",
       "      <td>X</td>\n",
       "      <td>O</td>\n",
       "      <td>O</td>\n",
       "    </tr>\n",
       "    <tr>\n",
       "      <th>8</th>\n",
       "      <td>9</td>\n",
       "      <td>X</td>\n",
       "      <td>O</td>\n",
       "      <td>X</td>\n",
       "    </tr>\n",
       "    <tr>\n",
       "      <th>9</th>\n",
       "      <td>10</td>\n",
       "      <td>X</td>\n",
       "      <td>O</td>\n",
       "      <td>X</td>\n",
       "    </tr>\n",
       "    <tr>\n",
       "      <th>10</th>\n",
       "      <td>11</td>\n",
       "      <td>X</td>\n",
       "      <td>O</td>\n",
       "      <td>X</td>\n",
       "    </tr>\n",
       "  </tbody>\n",
       "</table>\n",
       "</div>"
      ],
      "text/plain": [
       "    Game ID Player 1 Player 2 Winner\n",
       "0         1        X        O      O\n",
       "1         2        X        O      O\n",
       "2         3        X        O      X\n",
       "3         4        X        O      X\n",
       "4         5        X        O      O\n",
       "5         6        X        O      X\n",
       "6         7        X        O      O\n",
       "7         8        X        O      O\n",
       "8         9        X        O      X\n",
       "9        10        X        O      X\n",
       "10       11        X        O      X"
      ]
     },
     "execution_count": 52,
     "metadata": {},
     "output_type": "execute_result"
    }
   ],
   "source": [
    "W8_data = pd.read_csv('/Users/Mac/Desktop/TECH509/W8/W8_data.csv')\n",
    "W8_data"
   ]
  },
  {
   "cell_type": "code",
   "execution_count": 53,
   "id": "4976f9dc",
   "metadata": {},
   "outputs": [
    {
     "data": {
      "text/plain": [
       "<AxesSubplot:>"
      ]
     },
     "execution_count": 53,
     "metadata": {},
     "output_type": "execute_result"
    },
    {
     "data": {
      "image/png": "[encoded data removed]",
      "text/plain": [
       "<Figure size 432x288 with 1 Axes>"
      ]
     },
     "metadata": {
      "needs_background": "light"
     },
     "output_type": "display_data"
    }
   ],
   "source": [
    "W8_data.plot(kind='bar')"
   ]
  },
  {
   "cell_type": "code",
   "execution_count": 55,
   "id": "8e04193b",
   "metadata": {},
   "outputs": [
    {
     "data": {
      "text/plain": [
       "X    6\n",
       "O    5\n",
       "Name: Winner, dtype: int64"
      ]
     },
     "execution_count": 55,
     "metadata": {},
     "output_type": "execute_result"
    }
   ],
   "source": [
    "W8_data['Winner'].value_counts()"
   ]
  },
  {
   "cell_type": "code",
   "execution_count": 86,
   "id": "d6f453dd",
   "metadata": {},
   "outputs": [
    {
     "data": {
      "text/html": [
       "<div>\n",
       "<style scoped>\n",
       "    .dataframe tbody tr th:only-of-type {\n",
       "        vertical-align: middle;\n",
       "    }\n",
       "\n",
       "    .dataframe tbody tr th {\n",
       "        vertical-align: top;\n",
       "    }\n",
       "\n",
       "    .dataframe thead th {\n",
       "        text-align: right;\n",
       "    }\n",
       "</style>\n",
       "<table border=\"1\" class=\"dataframe\">\n",
       "  <thead>\n",
       "    <tr style=\"text-align: right;\">\n",
       "      <th></th>\n",
       "      <th>Player</th>\n",
       "      <th>Winning_Counts</th>\n",
       "    </tr>\n",
       "  </thead>\n",
       "  <tbody>\n",
       "  </tbody>\n",
       "</table>\n",
       "</div>"
      ],
      "text/plain": [
       "Empty DataFrame\n",
       "Columns: [Player, Winning_Counts]\n",
       "Index: []"
      ]
     },
     "execution_count": 86,
     "metadata": {},
     "output_type": "execute_result"
    }
   ],
   "source": [
    "counts = pd.DataFrame(columns =[\n",
    "    'Player',\n",
    "    'Winning_Counts',\n",
    "])\n",
    "counts"
   ]
  },
  {
   "cell_type": "code",
   "execution_count": 87,
   "id": "6af238ca",
   "metadata": {},
   "outputs": [
    {
     "data": {
      "text/html": [
       "<div>\n",
       "<style scoped>\n",
       "    .dataframe tbody tr th:only-of-type {\n",
       "        vertical-align: middle;\n",
       "    }\n",
       "\n",
       "    .dataframe tbody tr th {\n",
       "        vertical-align: top;\n",
       "    }\n",
       "\n",
       "    .dataframe thead th {\n",
       "        text-align: right;\n",
       "    }\n",
       "</style>\n",
       "<table border=\"1\" class=\"dataframe\">\n",
       "  <thead>\n",
       "    <tr style=\"text-align: right;\">\n",
       "      <th></th>\n",
       "      <th>Player</th>\n",
       "      <th>Winning_Counts</th>\n",
       "    </tr>\n",
       "  </thead>\n",
       "  <tbody>\n",
       "    <tr>\n",
       "      <th>0</th>\n",
       "      <td>NaN</td>\n",
       "      <td>6</td>\n",
       "    </tr>\n",
       "    <tr>\n",
       "      <th>1</th>\n",
       "      <td>O</td>\n",
       "      <td>5</td>\n",
       "    </tr>\n",
       "  </tbody>\n",
       "</table>\n",
       "</div>"
      ],
      "text/plain": [
       "  Player  Winning_Counts\n",
       "0    NaN               6\n",
       "1      O               5"
      ]
     },
     "execution_count": 87,
     "metadata": {},
     "output_type": "execute_result"
    }
   ],
   "source": [
    "counts.loc[len(counts)] = {\n",
    "    'player': 'X',\n",
    "    'Winning_Counts':6,\n",
    "}\n",
    "counts.loc[len(counts)] = {\n",
    "    'Player':'O',\n",
    "    'Winning_Counts':5\n",
    "}\n",
    "counts"
   ]
  },
  {
   "cell_type": "code",
   "execution_count": 88,
   "id": "11bc3ad4",
   "metadata": {},
   "outputs": [
    {
     "data": {
      "text/plain": [
       "<AxesSubplot:>"
      ]
     },
     "execution_count": 88,
     "metadata": {},
     "output_type": "execute_result"
    },
    {
     "data": {
      "image/png": "[encoded data removed]",
      "text/plain": [
       "<Figure size 432x288 with 1 Axes>"
      ]
     },
     "metadata": {
      "needs_background": "light"
     },
     "output_type": "display_data"
    }
   ],
   "source": [
    "counts.plot(kind ='bar')"
   ]
  },
  {
   "cell_type": "code",
   "execution_count": 102,
   "id": "fa1144db",
   "metadata": {},
   "outputs": [],
   "source": [
    "import matplotlib.pyplot as plt\n",
    "Game = np.array([1,0,5,2,3,4,9,10,6,7,8,11])"
   ]
  },
  {
   "cell_type": "code",
   "execution_count": 103,
   "id": "f0849954",
   "metadata": {},
   "outputs": [
    {
     "data": {
      "text/plain": [
       "[<matplotlib.lines.Line2D at 0x7f9bcbd96400>]"
      ]
     },
     "execution_count": 103,
     "metadata": {},
     "output_type": "execute_result"
    },
    {
     "data": {
      "image/png": "[encoded data removed]",
      "text/plain": [
       "<Figure size 432x288 with 1 Axes>"
      ]
     },
     "metadata": {
      "needs_background": "light"
     },
     "output_type": "display_data"
    }
   ],
   "source": [
    "plt.plot(a)"
   ]
  },
  {
   "cell_type": "code",
   "execution_count": null,
   "id": "39d47244",
   "metadata": {},
   "outputs": [],
   "source": []
  }
 ],
 "metadata": {
  "kernelspec": {
   "display_name": "Python 3 (ipykernel)",
   "language": "python",
   "name": "python3"
  },
  "language_info": {
   "codemirror_mode": {
    "name": "ipython",
    "version": 3
   },
   "file_extension": ".py",
   "mimetype": "text/x-python",
   "name": "python",
   "nbconvert_exporter": "python",
   "pygments_lexer": "ipython3",
   "version": "3.9.12"
  }
 },
 "nbformat": 4,
 "nbformat_minor": 5
}
